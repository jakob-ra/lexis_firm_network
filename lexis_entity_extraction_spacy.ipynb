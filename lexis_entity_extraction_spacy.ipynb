{
 "cells": [
  {
   "cell_type": "code",
   "execution_count": 2,
   "metadata": {
    "colab": {
     "base_uri": "https://localhost:8080/"
    },
    "id": "tEZA7N-FIzWJ",
    "outputId": "3c63543b-c488-4ab6-c74a-fb5377aae15a",
    "scrolled": true
   },
   "outputs": [
    {
     "name": "stdout",
     "output_type": "stream",
     "text": [
      "Mon Apr  4 21:57:11 2022       \r\n",
      "+-----------------------------------------------------------------------------+\r\n",
      "| NVIDIA-SMI 495.46       Driver Version: 495.46       CUDA Version: 11.5     |\r\n",
      "|-------------------------------+----------------------+----------------------+\r\n",
      "| GPU  Name        Persistence-M| Bus-Id        Disp.A | Volatile Uncorr. ECC |\r\n",
      "| Fan  Temp  Perf  Pwr:Usage/Cap|         Memory-Usage | GPU-Util  Compute M. |\r\n",
      "|                               |                      |               MIG M. |\r\n",
      "|===============================+======================+======================|\r\n",
      "|   0  NVIDIA GeForce ...  On   | 00000000:81:00.0 Off |                  N/A |\r\n",
      "| 32%   43C    P8    18W / 350W |      1MiB / 24268MiB |      0%      Default |\r\n",
      "|                               |                      |                  N/A |\r\n",
      "+-------------------------------+----------------------+----------------------+\r\n",
      "                                                                               \r\n",
      "+-----------------------------------------------------------------------------+\r\n",
      "| Processes:                                                                  |\r\n",
      "|  GPU   GI   CI        PID   Type   Process name                  GPU Memory |\r\n",
      "|        ID   ID                                                   Usage      |\r\n",
      "|=============================================================================|\r\n",
      "|  No running processes found                                                 |\r\n",
      "+-----------------------------------------------------------------------------+\r\n"
     ]
    }
   ],
   "source": [
    "!nvidia-smi"
   ]
  },
  {
   "cell_type": "code",
   "execution_count": 3,
   "metadata": {
    "colab": {
     "base_uri": "https://localhost:8080/"
    },
    "id": "qx-aQJPnJPfv",
    "outputId": "a6a1e93e-e4b9-4a03-c64e-96e3ab68e2c6",
    "scrolled": true
   },
   "outputs": [
    {
     "name": "stdout",
     "output_type": "stream",
     "text": [
      "\u001b[33mWARNING: Running pip as the 'root' user can result in broken permissions and conflicting behaviour with the system package manager. It is recommended to use a virtual environment instead: https://pip.pypa.io/warnings/venv\u001b[0m\n",
      "Collecting en-core-web-trf==3.2.0\n",
      "  Downloading https://github.com/explosion/spacy-models/releases/download/en_core_web_trf-3.2.0/en_core_web_trf-3.2.0-py3-none-any.whl (460.2 MB)\n",
      "\u001b[K     |████████████████████████████████| 460.2 MB 1.0 MB/s eta 0:00:0103    |█████████████████████████████▍  | 422.0 MB 1.0 MB/s eta 0:00:38\n",
      "\u001b[?25hCollecting spacy-transformers<1.2.0,>=1.1.2\n",
      "  Downloading spacy_transformers-1.1.5-py2.py3-none-any.whl (51 kB)\n",
      "\u001b[K     |████████████████████████████████| 51 kB 123 kB/s eta 0:00:011\n",
      "\u001b[?25hRequirement already satisfied: spacy<3.3.0,>=3.2.0 in /opt/conda/lib/python3.8/site-packages (from en-core-web-trf==3.2.0) (3.2.4)\n",
      "Requirement already satisfied: spacy-loggers<2.0.0,>=1.0.0 in /opt/conda/lib/python3.8/site-packages (from spacy<3.3.0,>=3.2.0->en-core-web-trf==3.2.0) (1.0.2)\n",
      "Requirement already satisfied: thinc<8.1.0,>=8.0.12 in /opt/conda/lib/python3.8/site-packages (from spacy<3.3.0,>=3.2.0->en-core-web-trf==3.2.0) (8.0.15)\n",
      "Requirement already satisfied: spacy-legacy<3.1.0,>=3.0.8 in /opt/conda/lib/python3.8/site-packages (from spacy<3.3.0,>=3.2.0->en-core-web-trf==3.2.0) (3.0.9)\n",
      "Requirement already satisfied: preshed<3.1.0,>=3.0.2 in /opt/conda/lib/python3.8/site-packages (from spacy<3.3.0,>=3.2.0->en-core-web-trf==3.2.0) (3.0.6)\n",
      "Requirement already satisfied: cymem<2.1.0,>=2.0.2 in /opt/conda/lib/python3.8/site-packages (from spacy<3.3.0,>=3.2.0->en-core-web-trf==3.2.0) (2.0.6)\n",
      "Requirement already satisfied: murmurhash<1.1.0,>=0.28.0 in /opt/conda/lib/python3.8/site-packages (from spacy<3.3.0,>=3.2.0->en-core-web-trf==3.2.0) (1.0.6)\n",
      "Requirement already satisfied: jinja2 in /opt/conda/lib/python3.8/site-packages (from spacy<3.3.0,>=3.2.0->en-core-web-trf==3.2.0) (2.11.3)\n",
      "Requirement already satisfied: pydantic!=1.8,!=1.8.1,<1.9.0,>=1.7.4 in /opt/conda/lib/python3.8/site-packages (from spacy<3.3.0,>=3.2.0->en-core-web-trf==3.2.0) (1.8.2)\n",
      "Requirement already satisfied: pathy>=0.3.5 in /opt/conda/lib/python3.8/site-packages (from spacy<3.3.0,>=3.2.0->en-core-web-trf==3.2.0) (0.6.1)\n",
      "Requirement already satisfied: typer<0.5.0,>=0.3.0 in /opt/conda/lib/python3.8/site-packages (from spacy<3.3.0,>=3.2.0->en-core-web-trf==3.2.0) (0.4.1)\n",
      "Requirement already satisfied: blis<0.8.0,>=0.4.0 in /opt/conda/lib/python3.8/site-packages (from spacy<3.3.0,>=3.2.0->en-core-web-trf==3.2.0) (0.7.7)\n",
      "Requirement already satisfied: tqdm<5.0.0,>=4.38.0 in /opt/conda/lib/python3.8/site-packages (from spacy<3.3.0,>=3.2.0->en-core-web-trf==3.2.0) (4.62.3)\n",
      "Requirement already satisfied: numpy>=1.15.0 in /opt/conda/lib/python3.8/site-packages (from spacy<3.3.0,>=3.2.0->en-core-web-trf==3.2.0) (1.21.2)\n",
      "Requirement already satisfied: click<8.1.0 in /opt/conda/lib/python3.8/site-packages (from spacy<3.3.0,>=3.2.0->en-core-web-trf==3.2.0) (8.0.4)\n",
      "Requirement already satisfied: packaging>=20.0 in /opt/conda/lib/python3.8/site-packages (from spacy<3.3.0,>=3.2.0->en-core-web-trf==3.2.0) (21.3)\n",
      "Requirement already satisfied: langcodes<4.0.0,>=3.2.0 in /opt/conda/lib/python3.8/site-packages (from spacy<3.3.0,>=3.2.0->en-core-web-trf==3.2.0) (3.3.0)\n",
      "Requirement already satisfied: requests<3.0.0,>=2.13.0 in /opt/conda/lib/python3.8/site-packages (from spacy<3.3.0,>=3.2.0->en-core-web-trf==3.2.0) (2.27.1)\n",
      "Requirement already satisfied: wasabi<1.1.0,>=0.8.1 in /opt/conda/lib/python3.8/site-packages (from spacy<3.3.0,>=3.2.0->en-core-web-trf==3.2.0) (0.9.1)\n",
      "Requirement already satisfied: catalogue<2.1.0,>=2.0.6 in /opt/conda/lib/python3.8/site-packages (from spacy<3.3.0,>=3.2.0->en-core-web-trf==3.2.0) (2.0.7)\n",
      "Requirement already satisfied: srsly<3.0.0,>=2.4.1 in /opt/conda/lib/python3.8/site-packages (from spacy<3.3.0,>=3.2.0->en-core-web-trf==3.2.0) (2.4.2)\n",
      "Requirement already satisfied: setuptools in /opt/conda/lib/python3.8/site-packages (from spacy<3.3.0,>=3.2.0->en-core-web-trf==3.2.0) (58.0.4)\n",
      "Requirement already satisfied: pyparsing!=3.0.5,>=2.0.2 in /opt/conda/lib/python3.8/site-packages (from packaging>=20.0->spacy<3.3.0,>=3.2.0->en-core-web-trf==3.2.0) (3.0.7)\n",
      "Requirement already satisfied: smart-open<6.0.0,>=5.0.0 in /opt/conda/lib/python3.8/site-packages (from pathy>=0.3.5->spacy<3.3.0,>=3.2.0->en-core-web-trf==3.2.0) (5.2.1)\n",
      "Requirement already satisfied: typing-extensions>=3.7.4.3 in /opt/conda/lib/python3.8/site-packages (from pydantic!=1.8,!=1.8.1,<1.9.0,>=1.7.4->spacy<3.3.0,>=3.2.0->en-core-web-trf==3.2.0) (3.10.0.2)\n",
      "Requirement already satisfied: urllib3<1.27,>=1.21.1 in /opt/conda/lib/python3.8/site-packages (from requests<3.0.0,>=2.13.0->spacy<3.3.0,>=3.2.0->en-core-web-trf==3.2.0) (1.26.7)\n",
      "Requirement already satisfied: certifi>=2017.4.17 in /opt/conda/lib/python3.8/site-packages (from requests<3.0.0,>=2.13.0->spacy<3.3.0,>=3.2.0->en-core-web-trf==3.2.0) (2021.10.8)\n",
      "Requirement already satisfied: idna<4,>=2.5 in /opt/conda/lib/python3.8/site-packages (from requests<3.0.0,>=2.13.0->spacy<3.3.0,>=3.2.0->en-core-web-trf==3.2.0) (3.3)\n",
      "Requirement already satisfied: charset-normalizer~=2.0.0 in /opt/conda/lib/python3.8/site-packages (from requests<3.0.0,>=2.13.0->spacy<3.3.0,>=3.2.0->en-core-web-trf==3.2.0) (2.0.4)\n",
      "Collecting transformers<4.18.0,>=3.4.0\n",
      "  Downloading transformers-4.17.0-py3-none-any.whl (3.8 MB)\n",
      "\u001b[K     |████████████████████████████████| 3.8 MB 16.1 MB/s eta 0:00:01\n",
      "\u001b[?25hRequirement already satisfied: torch>=1.6.0 in /opt/conda/lib/python3.8/site-packages (from spacy-transformers<1.2.0,>=1.1.2->en-core-web-trf==3.2.0) (1.11.0)\n",
      "Collecting spacy-alignments<1.0.0,>=0.7.2\n",
      "  Downloading spacy_alignments-0.8.4-cp38-cp38-manylinux_2_17_x86_64.manylinux2014_x86_64.whl (1.1 MB)\n",
      "\u001b[K     |████████████████████████████████| 1.1 MB 45.8 MB/s eta 0:00:01\n",
      "\u001b[?25hCollecting tokenizers!=0.11.3,>=0.11.1\n",
      "  Downloading tokenizers-0.11.6-cp38-cp38-manylinux_2_12_x86_64.manylinux2010_x86_64.whl (6.5 MB)\n",
      "\u001b[K     |████████████████████████████████| 6.5 MB 27.6 MB/s eta 0:00:01\n",
      "\u001b[?25hRequirement already satisfied: filelock in /opt/conda/lib/python3.8/site-packages (from transformers<4.18.0,>=3.4.0->spacy-transformers<1.2.0,>=1.1.2->en-core-web-trf==3.2.0) (3.4.2)\n",
      "Collecting huggingface-hub<1.0,>=0.1.0\n",
      "  Downloading huggingface_hub-0.4.0-py3-none-any.whl (67 kB)\n",
      "\u001b[K     |████████████████████████████████| 67 kB 4.1 MB/s s eta 0:00:01\n",
      "\u001b[?25hRequirement already satisfied: pyyaml>=5.1 in /opt/conda/lib/python3.8/site-packages (from transformers<4.18.0,>=3.4.0->spacy-transformers<1.2.0,>=1.1.2->en-core-web-trf==3.2.0) (6.0)\n",
      "Collecting regex!=2019.12.17\n",
      "  Downloading regex-2022.3.15-cp38-cp38-manylinux_2_17_x86_64.manylinux2014_x86_64.whl (764 kB)\n",
      "\u001b[K     |████████████████████████████████| 764 kB 100.8 MB/s eta 0:00:01\n",
      "\u001b[?25hCollecting sacremoses\n",
      "  Downloading sacremoses-0.0.49-py3-none-any.whl (895 kB)\n",
      "\u001b[K     |████████████████████████████████| 895 kB 45.9 MB/s eta 0:00:01\n",
      "\u001b[?25hRequirement already satisfied: MarkupSafe>=0.23 in /opt/conda/lib/python3.8/site-packages (from jinja2->spacy<3.3.0,>=3.2.0->en-core-web-trf==3.2.0) (2.0.1)\n",
      "Requirement already satisfied: six in /opt/conda/lib/python3.8/site-packages (from sacremoses->transformers<4.18.0,>=3.4.0->spacy-transformers<1.2.0,>=1.1.2->en-core-web-trf==3.2.0) (1.16.0)\n",
      "Collecting joblib\n",
      "  Downloading joblib-1.1.0-py2.py3-none-any.whl (306 kB)\n",
      "\u001b[K     |████████████████████████████████| 306 kB 64.1 MB/s eta 0:00:01\n",
      "\u001b[?25hInstalling collected packages: regex, joblib, tokenizers, sacremoses, huggingface-hub, transformers, spacy-alignments, spacy-transformers, en-core-web-trf\n",
      "Successfully installed en-core-web-trf-3.2.0 huggingface-hub-0.4.0 joblib-1.1.0 regex-2022.3.15 sacremoses-0.0.49 spacy-alignments-0.8.4 spacy-transformers-1.1.5 tokenizers-0.11.6 transformers-4.17.0\n",
      "\u001b[33mWARNING: Running pip as the 'root' user can result in broken permissions and conflicting behaviour with the system package manager. It is recommended to use a virtual environment instead: https://pip.pypa.io/warnings/venv\u001b[0m\n",
      "\u001b[38;5;2m✔ Download and installation successful\u001b[0m\n",
      "You can now load the package via spacy.load('en_core_web_trf')\n"
     ]
    },
    {
     "name": "stdout",
     "output_type": "stream",
     "text": [
      "\u001b[33mWARNING: Running pip as the 'root' user can result in broken permissions and conflicting behaviour with the system package manager. It is recommended to use a virtual environment instead: https://pip.pypa.io/warnings/venv\u001b[0m\r\n"
     ]
    }
   ],
   "source": [
    "!pip install -q -U 'spacy[cuda115]'\n",
    "!python -m spacy download en_core_web_trf\n",
    "!pip install -q pandas unidecode more_itertools ipynb"
   ]
  },
  {
   "cell_type": "code",
   "execution_count": 4,
   "metadata": {
    "id": "db8UBJItICXm"
   },
   "outputs": [],
   "source": [
    "import spacy\n",
    "from tqdm.auto import tqdm\n",
    "tqdm.pandas()\n",
    "import pandas as pd\n",
    "import unidecode\n",
    "import re"
   ]
  },
  {
   "cell_type": "code",
   "execution_count": 5,
   "metadata": {
    "colab": {
     "base_uri": "https://localhost:8080/"
    },
    "id": "4-9ecfanJ76k",
    "outputId": "4ec2f4aa-d7fb-4ad0-8027-2f9ba52da9f6"
   },
   "outputs": [
    {
     "data": {
      "text/plain": [
       "True"
      ]
     },
     "execution_count": 5,
     "metadata": {},
     "output_type": "execute_result"
    }
   ],
   "source": [
    "spacy.require_gpu()"
   ]
  },
  {
   "cell_type": "code",
   "execution_count": 6,
   "metadata": {
    "id": "NmaS7Tr2LTPo"
   },
   "outputs": [],
   "source": [
    "nlp = spacy.load(\"en_core_web_trf\") # spacy model"
   ]
  },
  {
   "cell_type": "code",
   "execution_count": 7,
   "metadata": {
    "colab": {
     "base_uri": "https://localhost:8080/"
    },
    "id": "Lt1TFbhtIUJY",
    "outputId": "3069ece1-3c60-4513-b2ad-7e5ba8343b5b"
   },
   "outputs": [
    {
     "data": {
      "text/plain": [
       "[('Apple', (0, 5)), ('Microsoft', (10, 19))]"
      ]
     },
     "execution_count": 7,
     "metadata": {},
     "output_type": "execute_result"
    }
   ],
   "source": [
    "def get_orgs(text):\n",
    "    '''\n",
    "    This function takes a text. Uses the Spacy model.\n",
    "    The model will tokenize, POS-tag and recognize the entities named in the text.\n",
    "    Returns a list of entities in the text that were recognized as organizations.\n",
    "    '''\n",
    "    # Apply the model\n",
    "    tags = nlp(text)\n",
    "    ents = [(ent.text.replace('\\'', ''), (ent.start_char, ent.end_char)) for ent in tags.ents if ent.label_=='ORG'] # also remove apostrophes\n",
    "    # Return the list of entities recognized as organizations\n",
    "    return ents\n",
    "\n",
    "# test run\n",
    "get_orgs('Apple and Microsoft plan to form a joint venture for the development of cloud-based '\n",
    "             'computing infrastrucutre.')"
   ]
  },
  {
   "cell_type": "code",
   "execution_count": 8,
   "metadata": {
    "scrolled": false
   },
   "outputs": [],
   "source": [
    "# # read lexis nexis news data\n",
    "# df = pd.read_pickle(\"lexisnexis\")\n",
    "# df.shape"
   ]
  },
  {
   "cell_type": "code",
   "execution_count": 9,
   "metadata": {
    "scrolled": true
   },
   "outputs": [],
   "source": [
    "# df['ents_pred'] = df.content.str[:600].progress_apply(get_orgs)"
   ]
  },
  {
   "cell_type": "code",
   "execution_count": 10,
   "metadata": {},
   "outputs": [],
   "source": [
    "df = pd.read_pickle(\"lexisnexis\")"
   ]
  },
  {
   "cell_type": "code",
   "execution_count": 11,
   "metadata": {},
   "outputs": [],
   "source": [
    "def firm_name_clean(firm_name, lower=True, remove_punc=True, remove_legal=True, remove_parentheses=True):\n",
    "    # make string\n",
    "    firm_name = str(firm_name)\n",
    "    firm_name = unidecode.unidecode(firm_name)\n",
    "    # lowercase\n",
    "    if lower:\n",
    "        firm_name = firm_name.lower()\n",
    "    # remove punctuation\n",
    "    if remove_punc:\n",
    "        firm_name = firm_name.translate(str.maketrans('', '', '!\"#$%\\\\\\'*+,./:;<=>?@^_`{|}~'))\n",
    "    # remove legal identifiers\n",
    "    if remove_legal:\n",
    "        legal_identifiers = [\"co\", \"inc\", \"ag\", \"ltd\", \"lp\", \"llc\", \"pllc\", \"llp\", \"plc\", \"ltdplc\", \"corp\",\n",
    "                             \"corporation\", \"ab\", \"cos\", \"cia\", \"sa\", \"company\", \"companies\", \"consolidated\",\n",
    "                             \"stores\", \"limited\", \"srl\", \"kk\", \"gmbh\", \"pty\", \"group\", \"yk\", \"bhd\",\n",
    "                             \"limitada\", \"holdings\", \"kg\", \"bv\", \"pte\", \"sas\", \"ilp\", \"nl\", \"genossenschaft\",\n",
    "                             \"gesellschaft\", \"aktiengesellschaft\", \"ltda\", \"nv\", \"oao\", \"holding\", \"se\",\n",
    "                             \"oy\", \"plcnv\", \"the\", \"neft\", \"& co\", \"&co\"]\n",
    "        pattern = '|'.join(legal_identifiers)\n",
    "        pattern = '\\\\b(' + pattern + ')\\\\b'  # match only word boundaries\n",
    "        firm_name = re.sub(pattern, '', firm_name)\n",
    "    # remove parentheses and anything in them: Bayerische Motoren Werke (BMW) -> Bayerische Motoren Werke\n",
    "    if remove_parentheses:\n",
    "        firm_name = re.sub(r'\\([^()]*\\)', '', firm_name)\n",
    "\n",
    "    # make hyphens consistent\n",
    "    firm_name = firm_name.replace(' - ', '-')\n",
    "\n",
    "    # remove ampersand symbol\n",
    "    firm_name = firm_name.replace('&amp;', '&')\n",
    "    firm_name = firm_name.replace('&amp', '&')\n",
    "\n",
    "    # strip\n",
    "    firm_name = firm_name.strip()\n",
    "\n",
    "    return firm_name\n",
    "\n",
    "def extract_firm_name_and_spans(text, names, clean_names=True):\n",
    "    if clean_names:\n",
    "        cleaned_names = [firm_name_clean(name) for name in names]\n",
    "        names += cleaned_names\n",
    "    pattern = r'|'.join(re.escape(word.strip()) for word in names)\n",
    "\n",
    "    res = re.finditer(pattern, text, flags=re.IGNORECASE)\n",
    "\n",
    "    return [(match.group(), match.span()) for match in res]\n",
    "\n",
    "def clean_unique_entities(ents):\n",
    "    seen_ents = []\n",
    "    res = []\n",
    "    for ent in ents:\n",
    "        cleaned_ent = firm_name_clean(ent[0])\n",
    "        if cleaned_ent not in seen_ents:\n",
    "            res.append(ent + (cleaned_ent,))\n",
    "            seen_ents.append(cleaned_ent)\n",
    "\n",
    "\n",
    "    return res\n"
   ]
  },
  {
   "cell_type": "code",
   "execution_count": 12,
   "metadata": {
    "scrolled": false
   },
   "outputs": [
    {
     "data": {
      "application/vnd.jupyter.widget-view+json": {
       "model_id": "88ba0cf9736d444a9b4a52027637c5a3",
       "version_major": 2,
       "version_minor": 0
      },
      "text/plain": [
       "  0%|          | 0/10 [00:00<?, ?it/s]"
      ]
     },
     "metadata": {},
     "output_type": "display_data"
    },
    {
     "data": {
      "text/plain": [
       "0    [(Honda Motor, (186, 197)), (Honda Motor, (505...\n",
       "1    [(Royal Dutch Shell PLC, (45, 66)), (PetroChin...\n",
       "2    [(Microsoft Corp, (2756, 2770)), (VHA Inc, (28...\n",
       "3    [(Kandi Technologies, (78, 96)), (Geely Automo...\n",
       "4    [(Fujitsu Electronics Inc, (193, 216)), (Fujit...\n",
       "5    [(, (0, 0)), (, (1, 1)), (, (2, 2)), (, (3, 3)...\n",
       "6    [(Eros International Media, (84, 108)), (Eros ...\n",
       "7    [(Fertoz Ltd, (46, 56)), (Fertoz, (278, 284)),...\n",
       "8    [(Intermatic Inc, (265, 279)), (Intermatic, (5...\n",
       "9    [(Honda Motor, (13, 24)), (Honda motor, (297, ...\n",
       "dtype: object"
      ]
     },
     "execution_count": 12,
     "metadata": {},
     "output_type": "execute_result"
    }
   ],
   "source": [
    "df.iloc[:10].progress_apply(lambda x: extract_firm_name_and_spans(x.content, x.company), axis=1)"
   ]
  },
  {
   "cell_type": "code",
   "execution_count": 13,
   "metadata": {
    "scrolled": true
   },
   "outputs": [
    {
     "data": {
      "application/vnd.jupyter.widget-view+json": {
       "model_id": "88d79093b9b74efab4b0f61ee4824b5c",
       "version_major": 2,
       "version_minor": 0
      },
      "text/plain": [
       "  0%|          | 0/1493945 [00:00<?, ?it/s]"
      ]
     },
     "metadata": {},
     "output_type": "display_data"
    }
   ],
   "source": [
    "df['ents_matched'] = df.progress_apply(lambda x: extract_firm_name_and_spans(x.content[:600], x.company), axis=1)"
   ]
  },
  {
   "cell_type": "code",
   "execution_count": 14,
   "metadata": {
    "scrolled": true
   },
   "outputs": [
    {
     "data": {
      "text/html": [
       "<div>\n",
       "<style scoped>\n",
       "    .dataframe tbody tr th:only-of-type {\n",
       "        vertical-align: middle;\n",
       "    }\n",
       "\n",
       "    .dataframe tbody tr th {\n",
       "        vertical-align: top;\n",
       "    }\n",
       "\n",
       "    .dataframe thead th {\n",
       "        text-align: right;\n",
       "    }\n",
       "</style>\n",
       "<table border=\"1\" class=\"dataframe\">\n",
       "  <thead>\n",
       "    <tr style=\"text-align: right;\">\n",
       "      <th></th>\n",
       "      <th>0</th>\n",
       "    </tr>\n",
       "  </thead>\n",
       "  <tbody>\n",
       "    <tr>\n",
       "      <th>0</th>\n",
       "      <td>polytec france</td>\n",
       "    </tr>\n",
       "    <tr>\n",
       "      <th>1</th>\n",
       "      <td>ati france</td>\n",
       "    </tr>\n",
       "    <tr>\n",
       "      <th>2</th>\n",
       "      <td>neubau kompass</td>\n",
       "    </tr>\n",
       "    <tr>\n",
       "      <th>3</th>\n",
       "      <td>acupuncture chiropractic clinic</td>\n",
       "    </tr>\n",
       "    <tr>\n",
       "      <th>4</th>\n",
       "      <td>protocor twenty two cc</td>\n",
       "    </tr>\n",
       "  </tbody>\n",
       "</table>\n",
       "</div>"
      ],
      "text/plain": [
       "                                 0\n",
       "0                   polytec france\n",
       "1                       ati france\n",
       "2                   neubau kompass\n",
       "3  acupuncture chiropractic clinic\n",
       "4           protocor twenty two cc"
      ]
     },
     "execution_count": 14,
     "metadata": {},
     "output_type": "execute_result"
    }
   ],
   "source": [
    "orbis = pd.read_csv('https://www.dropbox.com/s/bsq4m09j3ovqsy1/firm_lookup_list.csv.gzip?dl=1', compression='gzip')\n",
    "orbis.head()"
   ]
  },
  {
   "cell_type": "code",
   "execution_count": 15,
   "metadata": {
    "scrolled": false
   },
   "outputs": [],
   "source": [
    "orbis = set(orbis.squeeze().to_list())"
   ]
  },
  {
   "cell_type": "code",
   "execution_count": 16,
   "metadata": {},
   "outputs": [
    {
     "data": {
      "text/plain": [
       "5.8734960122360595"
      ]
     },
     "execution_count": 16,
     "metadata": {},
     "output_type": "execute_result"
    }
   ],
   "source": [
    "df.ents_pred.apply(len).mean()"
   ]
  },
  {
   "cell_type": "code",
   "execution_count": 17,
   "metadata": {},
   "outputs": [
    {
     "data": {
      "text/plain": [
       "131.72732195629692"
      ]
     },
     "execution_count": 17,
     "metadata": {},
     "output_type": "execute_result"
    }
   ],
   "source": [
    "df['ents'] = df.ents_matched + df.ents_pred\n",
    "df.ents.apply(len).mean()"
   ]
  },
  {
   "cell_type": "code",
   "execution_count": 18,
   "metadata": {},
   "outputs": [
    {
     "data": {
      "application/vnd.jupyter.widget-view+json": {
       "model_id": "a5189e4557d64743b0450474fadd9200",
       "version_major": 2,
       "version_minor": 0
      },
      "text/plain": [
       "  0%|          | 0/1493945 [00:00<?, ?it/s]"
      ]
     },
     "metadata": {},
     "output_type": "display_data"
    },
    {
     "data": {
      "text/plain": [
       "4.728095077128007"
      ]
     },
     "execution_count": 18,
     "metadata": {},
     "output_type": "execute_result"
    }
   ],
   "source": [
    "df['ents'] = df.ents.progress_apply(clean_unique_entities)\n",
    "df.ents.apply(len).mean()"
   ]
  },
  {
   "cell_type": "code",
   "execution_count": 19,
   "metadata": {},
   "outputs": [
    {
     "data": {
      "text/plain": [
       "2.3208511692197504"
      ]
     },
     "execution_count": 19,
     "metadata": {},
     "output_type": "execute_result"
    }
   ],
   "source": [
    "# filter out entities not in orbis\n",
    "df['ents'] = df.ents.apply(lambda ents: [ent for ent in ents if ent[2] in orbis])\n",
    "df.ents.apply(len).mean()"
   ]
  },
  {
   "cell_type": "code",
   "execution_count": 20,
   "metadata": {},
   "outputs": [
    {
     "data": {
      "text/plain": [
       "(1493945, 18)"
      ]
     },
     "execution_count": 20,
     "metadata": {},
     "output_type": "execute_result"
    }
   ],
   "source": [
    "df.shape"
   ]
  },
  {
   "cell_type": "code",
   "execution_count": 21,
   "metadata": {
    "scrolled": true
   },
   "outputs": [
    {
     "data": {
      "text/plain": [
       "(997100, 18)"
      ]
     },
     "execution_count": 21,
     "metadata": {},
     "output_type": "execute_result"
    }
   ],
   "source": [
    "df = df[df.ents.apply(len) > 1].copy() # need at least two unique identified participants\n",
    "df.shape"
   ]
  },
  {
   "cell_type": "code",
   "execution_count": 22,
   "metadata": {
    "scrolled": true
   },
   "outputs": [
    {
     "data": {
      "text/plain": [
       "4303138.0"
      ]
     },
     "execution_count": 22,
     "metadata": {},
     "output_type": "execute_result"
    }
   ],
   "source": [
    "# calc number of combinations\n",
    "import math\n",
    "df.ents.apply(len).apply(lambda n: math.factorial(n)/(2*math.factorial(n-2))).sum()"
   ]
  },
  {
   "cell_type": "code",
   "execution_count": 23,
   "metadata": {},
   "outputs": [],
   "source": [
    "# df['ents'] = df.ents.str[:4] # take only first four entities for each article"
   ]
  },
  {
   "cell_type": "code",
   "execution_count": 24,
   "metadata": {
    "scrolled": false
   },
   "outputs": [
    {
     "data": {
      "text/plain": [
       "(4303138, 19)"
      ]
     },
     "execution_count": 24,
     "metadata": {},
     "output_type": "execute_result"
    }
   ],
   "source": [
    "#We have multiple detected entities in each row. However, LUKE needs a pair of exactly two entities as an\n",
    "# input. Therefore, we need to create rows for all combinations of entities in a document:\n",
    "import itertools\n",
    "df[\"ent_comb\"] = df.ents.apply(lambda ents: [list(comb) for comb in itertools.combinations(ents, 2)])\n",
    "df = df.explode(\"ent_comb\")\n",
    "df.shape"
   ]
  },
  {
   "cell_type": "code",
   "execution_count": 25,
   "metadata": {},
   "outputs": [],
   "source": [
    "common_firms = df.ents.explode().apply(lambda ent: ent[0]).value_counts()"
   ]
  },
  {
   "cell_type": "code",
   "execution_count": 26,
   "metadata": {},
   "outputs": [
    {
     "data": {
      "text/plain": [
       "Dow Chemical Co           10443\n",
       "BBC                       10408\n",
       "Vivendi                   10360\n",
       "Sony Corp                 10228\n",
       "Nissan Motor              10191\n",
       "Reliance Industries       10176\n",
       "Merrill Lynch             10122\n",
       "British Airways           10106\n",
       "Dow Chemical              10049\n",
       "Viacom                     9964\n",
       "Virgin                     9939\n",
       "Verizon Communications     9867\n",
       "Sanofi                     9863\n",
       "Telefonica                 9798\n",
       "BA                         9648\n",
       "VW                         9640\n",
       "LG                         9612\n",
       "Commission                 9535\n",
       "Thales                     9519\n",
       "RWE                        9202\n",
       "ABC                        9184\n",
       "Sumitomo Corp              9170\n",
       "Walt Disney Co             9165\n",
       "Bank of America            9095\n",
       "Nokia Siemens Networks     9092\n",
       "PetroChina                 9077\n",
       "Peugeot                    9075\n",
       "Pfizer                     9049\n",
       "Mazda                      9049\n",
       "Barclays                   9020\n",
       "MGM                        8945\n",
       "Siemens AG                 8889\n",
       "American Airlines          8823\n",
       "EMI                        8806\n",
       "Audi                       8791\n",
       "FCC                        8784\n",
       "Balfour Beatty             8772\n",
       "Honda Motor                8715\n",
       "Amazon                     8681\n",
       "T-Mobile                   8528\n",
       "Discovery                  8371\n",
       "Fox                        8331\n",
       "Mercedes-Benz              8314\n",
       "Alliance                   8298\n",
       "Qatar Petroleum            8281\n",
       "KKR                        8253\n",
       "Cisco                      8243\n",
       "Visa                       8224\n",
       "HP                         8214\n",
       "AMS                        8175\n",
       "Name: ents, dtype: int64"
      ]
     },
     "execution_count": 26,
     "metadata": {},
     "output_type": "execute_result"
    }
   ],
   "source": [
    "common_firms.iloc[100:150]"
   ]
  },
  {
   "cell_type": "code",
   "execution_count": 27,
   "metadata": {},
   "outputs": [],
   "source": [
    "# take only combinations of entities close to each other\n",
    "df = df[df.ent_comb.apply(lambda ent_pair: abs(ent_pair[0][1][0]-ent_pair[1][1][0]) < 200)]"
   ]
  },
  {
   "cell_type": "code",
   "execution_count": 28,
   "metadata": {},
   "outputs": [],
   "source": [
    "df[\"firms\"] = df.ent_comb.apply(lambda ents: [ent[0] for ent in ents])\n",
    "df[\"spans\"] = df.ent_comb.apply(lambda ents: [ent[1] for ent in ents])"
   ]
  },
  {
   "cell_type": "code",
   "execution_count": 30,
   "metadata": {
    "scrolled": true
   },
   "outputs": [
    {
     "data": {
      "text/html": [
       "<div>\n",
       "<style scoped>\n",
       "    .dataframe tbody tr th:only-of-type {\n",
       "        vertical-align: middle;\n",
       "    }\n",
       "\n",
       "    .dataframe tbody tr th {\n",
       "        vertical-align: top;\n",
       "    }\n",
       "\n",
       "    .dataframe thead th {\n",
       "        text-align: right;\n",
       "    }\n",
       "</style>\n",
       "<table border=\"1\" class=\"dataframe\">\n",
       "  <thead>\n",
       "    <tr style=\"text-align: right;\">\n",
       "      <th></th>\n",
       "      <th>title</th>\n",
       "      <th>document</th>\n",
       "      <th>publication</th>\n",
       "      <th>word_count</th>\n",
       "      <th>publication_date</th>\n",
       "      <th>publication_date_text</th>\n",
       "      <th>author</th>\n",
       "      <th>copyright</th>\n",
       "      <th>subject</th>\n",
       "      <th>country</th>\n",
       "      <th>city</th>\n",
       "      <th>person</th>\n",
       "      <th>industry</th>\n",
       "      <th>company</th>\n",
       "      <th>lang</th>\n",
       "      <th>firms</th>\n",
       "      <th>firms</th>\n",
       "      <th>spans</th>\n",
       "    </tr>\n",
       "  </thead>\n",
       "  <tbody>\n",
       "    <tr>\n",
       "      <th>3</th>\n",
       "      <td>![['ELectricCar News: Kandi's (NASDAQ GS: $KND...</td>\n",
       "      <td>! Jinhua, China - July 25, 2016 (Newsfile Corp...</td>\n",
       "      <td>['MENA English (Middle East and North Africa F...</td>\n",
       "      <td>4514</td>\n",
       "      <td>2016-07-26</td>\n",
       "      <td>July 26, 2016 Tuesday</td>\n",
       "      <td>NaN</td>\n",
       "      <td>Copyright 2016 MENAFN.COM All Rights Reserved</td>\n",
       "      <td>[JOINT VENTURES, ELECTRIC VEHICLES, HOLDING CO...</td>\n",
       "      <td>[CHINA, NORTHERN AFRICA, MIDDLE EAST]</td>\n",
       "      <td>[DONGGUAN, GUANGDONG, CHINA]</td>\n",
       "      <td>[]</td>\n",
       "      <td>[NAICS336211 MOTOR VEHICLE BODY MANUFACTURING,...</td>\n",
       "      <td>[KANDI TECHNOLOGIES GROUP INC, GEELY AUTOMOBIL...</td>\n",
       "      <td>en</td>\n",
       "      <td>[(Kandi Technologies, (78, 96), kandi technolo...</td>\n",
       "      <td>[Kandi Technologies, Geely Automobile Holdings...</td>\n",
       "      <td>[(78, 96), (274, 303)]</td>\n",
       "    </tr>\n",
       "    <tr>\n",
       "      <th>3</th>\n",
       "      <td>![['ELectricCar News: Kandi's (NASDAQ GS: $KND...</td>\n",
       "      <td>! Jinhua, China - July 25, 2016 (Newsfile Corp...</td>\n",
       "      <td>['MENA English (Middle East and North Africa F...</td>\n",
       "      <td>4514</td>\n",
       "      <td>2016-07-26</td>\n",
       "      <td>July 26, 2016 Tuesday</td>\n",
       "      <td>NaN</td>\n",
       "      <td>Copyright 2016 MENAFN.COM All Rights Reserved</td>\n",
       "      <td>[JOINT VENTURES, ELECTRIC VEHICLES, HOLDING CO...</td>\n",
       "      <td>[CHINA, NORTHERN AFRICA, MIDDLE EAST]</td>\n",
       "      <td>[DONGGUAN, GUANGDONG, CHINA]</td>\n",
       "      <td>[]</td>\n",
       "      <td>[NAICS336211 MOTOR VEHICLE BODY MANUFACTURING,...</td>\n",
       "      <td>[KANDI TECHNOLOGIES GROUP INC, GEELY AUTOMOBIL...</td>\n",
       "      <td>en</td>\n",
       "      <td>[(Kandi Technologies, (78, 96), kandi technolo...</td>\n",
       "      <td>[Kandi Technologies, GS]</td>\n",
       "      <td>[(78, 96), (117, 119)]</td>\n",
       "    </tr>\n",
       "    <tr>\n",
       "      <th>3</th>\n",
       "      <td>![['ELectricCar News: Kandi's (NASDAQ GS: $KND...</td>\n",
       "      <td>! Jinhua, China - July 25, 2016 (Newsfile Corp...</td>\n",
       "      <td>['MENA English (Middle East and North Africa F...</td>\n",
       "      <td>4514</td>\n",
       "      <td>2016-07-26</td>\n",
       "      <td>July 26, 2016 Tuesday</td>\n",
       "      <td>NaN</td>\n",
       "      <td>Copyright 2016 MENAFN.COM All Rights Reserved</td>\n",
       "      <td>[JOINT VENTURES, ELECTRIC VEHICLES, HOLDING CO...</td>\n",
       "      <td>[CHINA, NORTHERN AFRICA, MIDDLE EAST]</td>\n",
       "      <td>[DONGGUAN, GUANGDONG, CHINA]</td>\n",
       "      <td>[]</td>\n",
       "      <td>[NAICS336211 MOTOR VEHICLE BODY MANUFACTURING,...</td>\n",
       "      <td>[KANDI TECHNOLOGIES GROUP INC, GEELY AUTOMOBIL...</td>\n",
       "      <td>en</td>\n",
       "      <td>[(Kandi Technologies, (78, 96), kandi technolo...</td>\n",
       "      <td>[Kandi Technologies, Kandi]</td>\n",
       "      <td>[(78, 96), (146, 151)]</td>\n",
       "    </tr>\n",
       "    <tr>\n",
       "      <th>3</th>\n",
       "      <td>![['ELectricCar News: Kandi's (NASDAQ GS: $KND...</td>\n",
       "      <td>! Jinhua, China - July 25, 2016 (Newsfile Corp...</td>\n",
       "      <td>['MENA English (Middle East and North Africa F...</td>\n",
       "      <td>4514</td>\n",
       "      <td>2016-07-26</td>\n",
       "      <td>July 26, 2016 Tuesday</td>\n",
       "      <td>NaN</td>\n",
       "      <td>Copyright 2016 MENAFN.COM All Rights Reserved</td>\n",
       "      <td>[JOINT VENTURES, ELECTRIC VEHICLES, HOLDING CO...</td>\n",
       "      <td>[CHINA, NORTHERN AFRICA, MIDDLE EAST]</td>\n",
       "      <td>[DONGGUAN, GUANGDONG, CHINA]</td>\n",
       "      <td>[]</td>\n",
       "      <td>[NAICS336211 MOTOR VEHICLE BODY MANUFACTURING,...</td>\n",
       "      <td>[KANDI TECHNOLOGIES GROUP INC, GEELY AUTOMOBIL...</td>\n",
       "      <td>en</td>\n",
       "      <td>[(Kandi Technologies, (78, 96), kandi technolo...</td>\n",
       "      <td>[Kandi Technologies, Kandi Electric Vehicles G...</td>\n",
       "      <td>[(78, 96), (175, 214)]</td>\n",
       "    </tr>\n",
       "    <tr>\n",
       "      <th>3</th>\n",
       "      <td>![['ELectricCar News: Kandi's (NASDAQ GS: $KND...</td>\n",
       "      <td>! Jinhua, China - July 25, 2016 (Newsfile Corp...</td>\n",
       "      <td>['MENA English (Middle East and North Africa F...</td>\n",
       "      <td>4514</td>\n",
       "      <td>2016-07-26</td>\n",
       "      <td>July 26, 2016 Tuesday</td>\n",
       "      <td>NaN</td>\n",
       "      <td>Copyright 2016 MENAFN.COM All Rights Reserved</td>\n",
       "      <td>[JOINT VENTURES, ELECTRIC VEHICLES, HOLDING CO...</td>\n",
       "      <td>[CHINA, NORTHERN AFRICA, MIDDLE EAST]</td>\n",
       "      <td>[DONGGUAN, GUANGDONG, CHINA]</td>\n",
       "      <td>[]</td>\n",
       "      <td>[NAICS336211 MOTOR VEHICLE BODY MANUFACTURING,...</td>\n",
       "      <td>[KANDI TECHNOLOGIES GROUP INC, GEELY AUTOMOBIL...</td>\n",
       "      <td>en</td>\n",
       "      <td>[(Geely Automobile Holdings Ltd, (274, 303), g...</td>\n",
       "      <td>[Geely Automobile Holdings Ltd, GS]</td>\n",
       "      <td>[(274, 303), (117, 119)]</td>\n",
       "    </tr>\n",
       "  </tbody>\n",
       "</table>\n",
       "</div>"
      ],
      "text/plain": [
       "                                               title  \\\n",
       "3  ![['ELectricCar News: Kandi's (NASDAQ GS: $KND...   \n",
       "3  ![['ELectricCar News: Kandi's (NASDAQ GS: $KND...   \n",
       "3  ![['ELectricCar News: Kandi's (NASDAQ GS: $KND...   \n",
       "3  ![['ELectricCar News: Kandi's (NASDAQ GS: $KND...   \n",
       "3  ![['ELectricCar News: Kandi's (NASDAQ GS: $KND...   \n",
       "\n",
       "                                            document  \\\n",
       "3  ! Jinhua, China - July 25, 2016 (Newsfile Corp...   \n",
       "3  ! Jinhua, China - July 25, 2016 (Newsfile Corp...   \n",
       "3  ! Jinhua, China - July 25, 2016 (Newsfile Corp...   \n",
       "3  ! Jinhua, China - July 25, 2016 (Newsfile Corp...   \n",
       "3  ! Jinhua, China - July 25, 2016 (Newsfile Corp...   \n",
       "\n",
       "                                         publication  word_count  \\\n",
       "3  ['MENA English (Middle East and North Africa F...        4514   \n",
       "3  ['MENA English (Middle East and North Africa F...        4514   \n",
       "3  ['MENA English (Middle East and North Africa F...        4514   \n",
       "3  ['MENA English (Middle East and North Africa F...        4514   \n",
       "3  ['MENA English (Middle East and North Africa F...        4514   \n",
       "\n",
       "  publication_date  publication_date_text author  \\\n",
       "3       2016-07-26  July 26, 2016 Tuesday    NaN   \n",
       "3       2016-07-26  July 26, 2016 Tuesday    NaN   \n",
       "3       2016-07-26  July 26, 2016 Tuesday    NaN   \n",
       "3       2016-07-26  July 26, 2016 Tuesday    NaN   \n",
       "3       2016-07-26  July 26, 2016 Tuesday    NaN   \n",
       "\n",
       "                                       copyright  \\\n",
       "3  Copyright 2016 MENAFN.COM All Rights Reserved   \n",
       "3  Copyright 2016 MENAFN.COM All Rights Reserved   \n",
       "3  Copyright 2016 MENAFN.COM All Rights Reserved   \n",
       "3  Copyright 2016 MENAFN.COM All Rights Reserved   \n",
       "3  Copyright 2016 MENAFN.COM All Rights Reserved   \n",
       "\n",
       "                                             subject  \\\n",
       "3  [JOINT VENTURES, ELECTRIC VEHICLES, HOLDING CO...   \n",
       "3  [JOINT VENTURES, ELECTRIC VEHICLES, HOLDING CO...   \n",
       "3  [JOINT VENTURES, ELECTRIC VEHICLES, HOLDING CO...   \n",
       "3  [JOINT VENTURES, ELECTRIC VEHICLES, HOLDING CO...   \n",
       "3  [JOINT VENTURES, ELECTRIC VEHICLES, HOLDING CO...   \n",
       "\n",
       "                                 country                          city person  \\\n",
       "3  [CHINA, NORTHERN AFRICA, MIDDLE EAST]  [DONGGUAN, GUANGDONG, CHINA]     []   \n",
       "3  [CHINA, NORTHERN AFRICA, MIDDLE EAST]  [DONGGUAN, GUANGDONG, CHINA]     []   \n",
       "3  [CHINA, NORTHERN AFRICA, MIDDLE EAST]  [DONGGUAN, GUANGDONG, CHINA]     []   \n",
       "3  [CHINA, NORTHERN AFRICA, MIDDLE EAST]  [DONGGUAN, GUANGDONG, CHINA]     []   \n",
       "3  [CHINA, NORTHERN AFRICA, MIDDLE EAST]  [DONGGUAN, GUANGDONG, CHINA]     []   \n",
       "\n",
       "                                            industry  \\\n",
       "3  [NAICS336211 MOTOR VEHICLE BODY MANUFACTURING,...   \n",
       "3  [NAICS336211 MOTOR VEHICLE BODY MANUFACTURING,...   \n",
       "3  [NAICS336211 MOTOR VEHICLE BODY MANUFACTURING,...   \n",
       "3  [NAICS336211 MOTOR VEHICLE BODY MANUFACTURING,...   \n",
       "3  [NAICS336211 MOTOR VEHICLE BODY MANUFACTURING,...   \n",
       "\n",
       "                                             company lang  \\\n",
       "3  [KANDI TECHNOLOGIES GROUP INC, GEELY AUTOMOBIL...   en   \n",
       "3  [KANDI TECHNOLOGIES GROUP INC, GEELY AUTOMOBIL...   en   \n",
       "3  [KANDI TECHNOLOGIES GROUP INC, GEELY AUTOMOBIL...   en   \n",
       "3  [KANDI TECHNOLOGIES GROUP INC, GEELY AUTOMOBIL...   en   \n",
       "3  [KANDI TECHNOLOGIES GROUP INC, GEELY AUTOMOBIL...   en   \n",
       "\n",
       "                                               firms  \\\n",
       "3  [(Kandi Technologies, (78, 96), kandi technolo...   \n",
       "3  [(Kandi Technologies, (78, 96), kandi technolo...   \n",
       "3  [(Kandi Technologies, (78, 96), kandi technolo...   \n",
       "3  [(Kandi Technologies, (78, 96), kandi technolo...   \n",
       "3  [(Geely Automobile Holdings Ltd, (274, 303), g...   \n",
       "\n",
       "                                               firms                     spans  \n",
       "3  [Kandi Technologies, Geely Automobile Holdings...    [(78, 96), (274, 303)]  \n",
       "3                           [Kandi Technologies, GS]    [(78, 96), (117, 119)]  \n",
       "3                        [Kandi Technologies, Kandi]    [(78, 96), (146, 151)]  \n",
       "3  [Kandi Technologies, Kandi Electric Vehicles G...    [(78, 96), (175, 214)]  \n",
       "3                [Geely Automobile Holdings Ltd, GS]  [(274, 303), (117, 119)]  "
      ]
     },
     "execution_count": 30,
     "metadata": {},
     "output_type": "execute_result"
    }
   ],
   "source": [
    "df.drop(columns=['ents_pred', 'ents_matched', 'ents', 'ent_comb'], inplace=True)\n",
    "df.rename(columns={'content': 'document'}, inplace=True)\n",
    "df.head()"
   ]
  },
  {
   "cell_type": "code",
   "execution_count": 31,
   "metadata": {},
   "outputs": [],
   "source": [
    "df.to_pickle('lexisnexis_for_inference')"
   ]
  }
 ],
 "metadata": {
  "accelerator": "GPU",
  "colab": {
   "name": "entity-extraction-spacy.ipynb",
   "provenance": []
  },
  "kernelspec": {
   "display_name": "Python 3 (ipykernel)",
   "language": "python",
   "name": "python3"
  },
  "language_info": {
   "codemirror_mode": {
    "name": "ipython",
    "version": 3
   },
   "file_extension": ".py",
   "mimetype": "text/x-python",
   "name": "python",
   "nbconvert_exporter": "python",
   "pygments_lexer": "ipython3",
   "version": "3.8.12"
  },
  "widgets": {
   "application/vnd.jupyter.widget-state+json": {
    "34ecdb2be1d2431799125c83c507ee9e": {
     "model_module": "@jupyter-widgets/controls",
     "model_module_version": "1.5.0",
     "model_name": "DescriptionStyleModel",
     "state": {
      "_model_module": "@jupyter-widgets/controls",
      "_model_module_version": "1.5.0",
      "_model_name": "DescriptionStyleModel",
      "_view_count": null,
      "_view_module": "@jupyter-widgets/base",
      "_view_module_version": "1.2.0",
      "_view_name": "StyleView",
      "description_width": ""
     }
    },
    "3b625021cdfb4e20a66ab04924f27c51": {
     "model_module": "@jupyter-widgets/controls",
     "model_module_version": "1.5.0",
     "model_name": "HTMLModel",
     "state": {
      "_dom_classes": [],
      "_model_module": "@jupyter-widgets/controls",
      "_model_module_version": "1.5.0",
      "_model_name": "HTMLModel",
      "_view_count": null,
      "_view_module": "@jupyter-widgets/controls",
      "_view_module_version": "1.5.0",
      "_view_name": "HTMLView",
      "description": "",
      "description_tooltip": null,
      "layout": "IPY_MODEL_68e1cc292c1c4555adc9c1aa76fd8903",
      "placeholder": "​",
      "style": "IPY_MODEL_943af2dd86c348b1846372810505c71c",
      "value": " 1000/1000 [00:33&lt;00:00, 22.68it/s]"
     }
    },
    "4003dacf23d841579145acc038fc86c4": {
     "model_module": "@jupyter-widgets/controls",
     "model_module_version": "1.5.0",
     "model_name": "HBoxModel",
     "state": {
      "_dom_classes": [],
      "_model_module": "@jupyter-widgets/controls",
      "_model_module_version": "1.5.0",
      "_model_name": "HBoxModel",
      "_view_count": null,
      "_view_module": "@jupyter-widgets/controls",
      "_view_module_version": "1.5.0",
      "_view_name": "HBoxView",
      "box_style": "",
      "children": [
       "IPY_MODEL_e8513f9655744e8cb7e31cdeb2e62ec7",
       "IPY_MODEL_b45cd0bbd53246e9975f60440fd63e58",
       "IPY_MODEL_3b625021cdfb4e20a66ab04924f27c51"
      ],
      "layout": "IPY_MODEL_e054a7ac3fc14d9bae82b2d7852f05fb"
     }
    },
    "68e1cc292c1c4555adc9c1aa76fd8903": {
     "model_module": "@jupyter-widgets/base",
     "model_module_version": "1.2.0",
     "model_name": "LayoutModel",
     "state": {
      "_model_module": "@jupyter-widgets/base",
      "_model_module_version": "1.2.0",
      "_model_name": "LayoutModel",
      "_view_count": null,
      "_view_module": "@jupyter-widgets/base",
      "_view_module_version": "1.2.0",
      "_view_name": "LayoutView",
      "align_content": null,
      "align_items": null,
      "align_self": null,
      "border": null,
      "bottom": null,
      "display": null,
      "flex": null,
      "flex_flow": null,
      "grid_area": null,
      "grid_auto_columns": null,
      "grid_auto_flow": null,
      "grid_auto_rows": null,
      "grid_column": null,
      "grid_gap": null,
      "grid_row": null,
      "grid_template_areas": null,
      "grid_template_columns": null,
      "grid_template_rows": null,
      "height": null,
      "justify_content": null,
      "justify_items": null,
      "left": null,
      "margin": null,
      "max_height": null,
      "max_width": null,
      "min_height": null,
      "min_width": null,
      "object_fit": null,
      "object_position": null,
      "order": null,
      "overflow": null,
      "overflow_x": null,
      "overflow_y": null,
      "padding": null,
      "right": null,
      "top": null,
      "visibility": null,
      "width": null
     }
    },
    "7814064e3cd14326a12a7847465c5702": {
     "model_module": "@jupyter-widgets/controls",
     "model_module_version": "1.5.0",
     "model_name": "ProgressStyleModel",
     "state": {
      "_model_module": "@jupyter-widgets/controls",
      "_model_module_version": "1.5.0",
      "_model_name": "ProgressStyleModel",
      "_view_count": null,
      "_view_module": "@jupyter-widgets/base",
      "_view_module_version": "1.2.0",
      "_view_name": "StyleView",
      "bar_color": null,
      "description_width": ""
     }
    },
    "943af2dd86c348b1846372810505c71c": {
     "model_module": "@jupyter-widgets/controls",
     "model_module_version": "1.5.0",
     "model_name": "DescriptionStyleModel",
     "state": {
      "_model_module": "@jupyter-widgets/controls",
      "_model_module_version": "1.5.0",
      "_model_name": "DescriptionStyleModel",
      "_view_count": null,
      "_view_module": "@jupyter-widgets/base",
      "_view_module_version": "1.2.0",
      "_view_name": "StyleView",
      "description_width": ""
     }
    },
    "9a86f14c2e0b42fb87730bf6043fa493": {
     "model_module": "@jupyter-widgets/base",
     "model_module_version": "1.2.0",
     "model_name": "LayoutModel",
     "state": {
      "_model_module": "@jupyter-widgets/base",
      "_model_module_version": "1.2.0",
      "_model_name": "LayoutModel",
      "_view_count": null,
      "_view_module": "@jupyter-widgets/base",
      "_view_module_version": "1.2.0",
      "_view_name": "LayoutView",
      "align_content": null,
      "align_items": null,
      "align_self": null,
      "border": null,
      "bottom": null,
      "display": null,
      "flex": null,
      "flex_flow": null,
      "grid_area": null,
      "grid_auto_columns": null,
      "grid_auto_flow": null,
      "grid_auto_rows": null,
      "grid_column": null,
      "grid_gap": null,
      "grid_row": null,
      "grid_template_areas": null,
      "grid_template_columns": null,
      "grid_template_rows": null,
      "height": null,
      "justify_content": null,
      "justify_items": null,
      "left": null,
      "margin": null,
      "max_height": null,
      "max_width": null,
      "min_height": null,
      "min_width": null,
      "object_fit": null,
      "object_position": null,
      "order": null,
      "overflow": null,
      "overflow_x": null,
      "overflow_y": null,
      "padding": null,
      "right": null,
      "top": null,
      "visibility": null,
      "width": null
     }
    },
    "b45cd0bbd53246e9975f60440fd63e58": {
     "model_module": "@jupyter-widgets/controls",
     "model_module_version": "1.5.0",
     "model_name": "FloatProgressModel",
     "state": {
      "_dom_classes": [],
      "_model_module": "@jupyter-widgets/controls",
      "_model_module_version": "1.5.0",
      "_model_name": "FloatProgressModel",
      "_view_count": null,
      "_view_module": "@jupyter-widgets/controls",
      "_view_module_version": "1.5.0",
      "_view_name": "ProgressView",
      "bar_style": "success",
      "description": "",
      "description_tooltip": null,
      "layout": "IPY_MODEL_9a86f14c2e0b42fb87730bf6043fa493",
      "max": 1000,
      "min": 0,
      "orientation": "horizontal",
      "style": "IPY_MODEL_7814064e3cd14326a12a7847465c5702",
      "value": 1000
     }
    },
    "b978b2a562d04ba9ae92d07fef8e6d7b": {
     "model_module": "@jupyter-widgets/base",
     "model_module_version": "1.2.0",
     "model_name": "LayoutModel",
     "state": {
      "_model_module": "@jupyter-widgets/base",
      "_model_module_version": "1.2.0",
      "_model_name": "LayoutModel",
      "_view_count": null,
      "_view_module": "@jupyter-widgets/base",
      "_view_module_version": "1.2.0",
      "_view_name": "LayoutView",
      "align_content": null,
      "align_items": null,
      "align_self": null,
      "border": null,
      "bottom": null,
      "display": null,
      "flex": null,
      "flex_flow": null,
      "grid_area": null,
      "grid_auto_columns": null,
      "grid_auto_flow": null,
      "grid_auto_rows": null,
      "grid_column": null,
      "grid_gap": null,
      "grid_row": null,
      "grid_template_areas": null,
      "grid_template_columns": null,
      "grid_template_rows": null,
      "height": null,
      "justify_content": null,
      "justify_items": null,
      "left": null,
      "margin": null,
      "max_height": null,
      "max_width": null,
      "min_height": null,
      "min_width": null,
      "object_fit": null,
      "object_position": null,
      "order": null,
      "overflow": null,
      "overflow_x": null,
      "overflow_y": null,
      "padding": null,
      "right": null,
      "top": null,
      "visibility": null,
      "width": null
     }
    },
    "e054a7ac3fc14d9bae82b2d7852f05fb": {
     "model_module": "@jupyter-widgets/base",
     "model_module_version": "1.2.0",
     "model_name": "LayoutModel",
     "state": {
      "_model_module": "@jupyter-widgets/base",
      "_model_module_version": "1.2.0",
      "_model_name": "LayoutModel",
      "_view_count": null,
      "_view_module": "@jupyter-widgets/base",
      "_view_module_version": "1.2.0",
      "_view_name": "LayoutView",
      "align_content": null,
      "align_items": null,
      "align_self": null,
      "border": null,
      "bottom": null,
      "display": null,
      "flex": null,
      "flex_flow": null,
      "grid_area": null,
      "grid_auto_columns": null,
      "grid_auto_flow": null,
      "grid_auto_rows": null,
      "grid_column": null,
      "grid_gap": null,
      "grid_row": null,
      "grid_template_areas": null,
      "grid_template_columns": null,
      "grid_template_rows": null,
      "height": null,
      "justify_content": null,
      "justify_items": null,
      "left": null,
      "margin": null,
      "max_height": null,
      "max_width": null,
      "min_height": null,
      "min_width": null,
      "object_fit": null,
      "object_position": null,
      "order": null,
      "overflow": null,
      "overflow_x": null,
      "overflow_y": null,
      "padding": null,
      "right": null,
      "top": null,
      "visibility": null,
      "width": null
     }
    },
    "e8513f9655744e8cb7e31cdeb2e62ec7": {
     "model_module": "@jupyter-widgets/controls",
     "model_module_version": "1.5.0",
     "model_name": "HTMLModel",
     "state": {
      "_dom_classes": [],
      "_model_module": "@jupyter-widgets/controls",
      "_model_module_version": "1.5.0",
      "_model_name": "HTMLModel",
      "_view_count": null,
      "_view_module": "@jupyter-widgets/controls",
      "_view_module_version": "1.5.0",
      "_view_name": "HTMLView",
      "description": "",
      "description_tooltip": null,
      "layout": "IPY_MODEL_b978b2a562d04ba9ae92d07fef8e6d7b",
      "placeholder": "​",
      "style": "IPY_MODEL_34ecdb2be1d2431799125c83c507ee9e",
      "value": "Pandas Apply: 100%"
     }
    }
   }
  }
 },
 "nbformat": 4,
 "nbformat_minor": 1
}
